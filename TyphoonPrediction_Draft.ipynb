{
  "metadata": {
    "kernelspec": {
      "language": "python",
      "display_name": "Python 3",
      "name": "python3"
    },
    "language_info": {
      "name": "python",
      "version": "3.7.12",
      "mimetype": "text/x-python",
      "codemirror_mode": {
        "name": "ipython",
        "version": 3
      },
      "pygments_lexer": "ipython3",
      "nbconvert_exporter": "python",
      "file_extension": ".py"
    },
    "colab": {
      "provenance": []
    }
  },
  "nbformat_minor": 0,
  "nbformat": 4,
  "cells": [
    {
      "cell_type": "markdown",
      "source": [
        "# SSK4409 Project Part 2 - Data Analytics\n",
        "- Let's forecast typhoon's future like movement, wind speed, pressure, etc."
      ],
      "metadata": {
        "id": "Y7q20WAB3_qR"
      }
    },
    {
      "cell_type": "code",
      "source": [
        "import numpy as np\n",
        "import pandas as pd\n",
        "import matplotlib.pyplot as plt"
      ],
      "metadata": {
        "_uuid": "8f2839f25d086af736a60e9eeb907d3b93b6e0e5",
        "_cell_guid": "b1076dfc-b9ad-4769-8c92-a6c4dae69d19",
        "execution": {
          "iopub.status.busy": "2023-06-10T19:41:42.885452Z",
          "iopub.execute_input": "2023-06-10T19:41:42.886066Z",
          "iopub.status.idle": "2023-06-10T19:41:42.893150Z",
          "shell.execute_reply.started": "2023-06-10T19:41:42.886007Z",
          "shell.execute_reply": "2023-06-10T19:41:42.891657Z"
        },
        "trusted": true,
        "id": "j5BwiiqK3_qT"
      },
      "execution_count": null,
      "outputs": []
    },
    {
      "cell_type": "markdown",
      "source": [
        "# i. Pre-processing, data cleaning\n",
        "For this part, we will be doing the basic data processing and data cleaning."
      ],
      "metadata": {
        "id": "GRJU73_p3_qU"
      }
    },
    {
      "cell_type": "code",
      "source": [
        "data = pd.read_csv(\"/kaggle/input/asian-typhoon-dataset-1951-2022-rsmc-best-track/typhoon_data.csv\", index_col=0)\n",
        "data.head()"
      ],
      "metadata": {
        "execution": {
          "iopub.status.busy": "2023-06-10T19:41:42.895973Z",
          "iopub.execute_input": "2023-06-10T19:41:42.896755Z",
          "iopub.status.idle": "2023-06-10T19:41:43.244632Z",
          "shell.execute_reply.started": "2023-06-10T19:41:42.896704Z",
          "shell.execute_reply": "2023-06-10T19:41:43.243239Z"
        },
        "trusted": true,
        "id": "7AKaSQPJ3_qU",
        "outputId": "b66906e0-947d-45a6-c854-cdbd072900ca"
      },
      "execution_count": null,
      "outputs": [
        {
          "execution_count": 3,
          "output_type": "execute_result",
          "data": {
            "text/plain": "   International number ID  year  month  day  hour  \\\n0                     5101  1951      2   19     6   \n1                     5101  1951      2   19    12   \n2                     5101  1951      2   19    18   \n3                     5101  1951      2   20     0   \n4                     5101  1951      2   20     6   \n\n                                        grade  Latitude of the center  \\\n0                         Tropical Depression                     200   \n1                         Tropical Depression                     200   \n2                         Tropical Depression                     230   \n3  Tropical Cyclone of TS intensity or higher                     250   \n4  Tropical Cyclone of TS intensity or higher                     276   \n\n   Longitude of the center  Central pressure  Maximum sustained wind speed  \\\n0                     1385              1010                           NaN   \n1                     1385              1010                           NaN   \n2                     1421              1000                           NaN   \n3                     1460               994                           NaN   \n4                     1506               994                           NaN   \n\n  Direction of the longest radius of 50kt winds or greater  \\\n0                                                NaN         \n1                                                NaN         \n2                                                NaN         \n3                                                NaN         \n4                                                NaN         \n\n   The longeast radius of 50kt winds or greater  \\\n0                                           NaN   \n1                                           NaN   \n2                                           NaN   \n3                                           NaN   \n4                                           NaN   \n\n   The shortest radius of 50kt winds or greater  \\\n0                                           NaN   \n1                                           NaN   \n2                                           NaN   \n3                                           NaN   \n4                                           NaN   \n\n  Direction of the longest radius of 30kt winds or greater  \\\n0                                                NaN         \n1                                                NaN         \n2                                                NaN         \n3                                                NaN         \n4                                                NaN         \n\n   The longeast radius of 30kt winds or greater  \\\n0                                           NaN   \n1                                           NaN   \n2                                           NaN   \n3                                           NaN   \n4                                           NaN   \n\n   The shortest radius of 30kt winds or greater  \\\n0                                           NaN   \n1                                           NaN   \n2                                           NaN   \n3                                           NaN   \n4                                           NaN   \n\n  Indicator of landfall or passage  \n0                                   \n1                                   \n2                                   \n3                                   \n4                                   ",
            "text/html": "<div>\n<style scoped>\n    .dataframe tbody tr th:only-of-type {\n        vertical-align: middle;\n    }\n\n    .dataframe tbody tr th {\n        vertical-align: top;\n    }\n\n    .dataframe thead th {\n        text-align: right;\n    }\n</style>\n<table border=\"1\" class=\"dataframe\">\n  <thead>\n    <tr style=\"text-align: right;\">\n      <th></th>\n      <th>International number ID</th>\n      <th>year</th>\n      <th>month</th>\n      <th>day</th>\n      <th>hour</th>\n      <th>grade</th>\n      <th>Latitude of the center</th>\n      <th>Longitude of the center</th>\n      <th>Central pressure</th>\n      <th>Maximum sustained wind speed</th>\n      <th>Direction of the longest radius of 50kt winds or greater</th>\n      <th>The longeast radius of 50kt winds or greater</th>\n      <th>The shortest radius of 50kt winds or greater</th>\n      <th>Direction of the longest radius of 30kt winds or greater</th>\n      <th>The longeast radius of 30kt winds or greater</th>\n      <th>The shortest radius of 30kt winds or greater</th>\n      <th>Indicator of landfall or passage</th>\n    </tr>\n  </thead>\n  <tbody>\n    <tr>\n      <th>0</th>\n      <td>5101</td>\n      <td>1951</td>\n      <td>2</td>\n      <td>19</td>\n      <td>6</td>\n      <td>Tropical Depression</td>\n      <td>200</td>\n      <td>1385</td>\n      <td>1010</td>\n      <td>NaN</td>\n      <td>NaN</td>\n      <td>NaN</td>\n      <td>NaN</td>\n      <td>NaN</td>\n      <td>NaN</td>\n      <td>NaN</td>\n      <td></td>\n    </tr>\n    <tr>\n      <th>1</th>\n      <td>5101</td>\n      <td>1951</td>\n      <td>2</td>\n      <td>19</td>\n      <td>12</td>\n      <td>Tropical Depression</td>\n      <td>200</td>\n      <td>1385</td>\n      <td>1010</td>\n      <td>NaN</td>\n      <td>NaN</td>\n      <td>NaN</td>\n      <td>NaN</td>\n      <td>NaN</td>\n      <td>NaN</td>\n      <td>NaN</td>\n      <td></td>\n    </tr>\n    <tr>\n      <th>2</th>\n      <td>5101</td>\n      <td>1951</td>\n      <td>2</td>\n      <td>19</td>\n      <td>18</td>\n      <td>Tropical Depression</td>\n      <td>230</td>\n      <td>1421</td>\n      <td>1000</td>\n      <td>NaN</td>\n      <td>NaN</td>\n      <td>NaN</td>\n      <td>NaN</td>\n      <td>NaN</td>\n      <td>NaN</td>\n      <td>NaN</td>\n      <td></td>\n    </tr>\n    <tr>\n      <th>3</th>\n      <td>5101</td>\n      <td>1951</td>\n      <td>2</td>\n      <td>20</td>\n      <td>0</td>\n      <td>Tropical Cyclone of TS intensity or higher</td>\n      <td>250</td>\n      <td>1460</td>\n      <td>994</td>\n      <td>NaN</td>\n      <td>NaN</td>\n      <td>NaN</td>\n      <td>NaN</td>\n      <td>NaN</td>\n      <td>NaN</td>\n      <td>NaN</td>\n      <td></td>\n    </tr>\n    <tr>\n      <th>4</th>\n      <td>5101</td>\n      <td>1951</td>\n      <td>2</td>\n      <td>20</td>\n      <td>6</td>\n      <td>Tropical Cyclone of TS intensity or higher</td>\n      <td>276</td>\n      <td>1506</td>\n      <td>994</td>\n      <td>NaN</td>\n      <td>NaN</td>\n      <td>NaN</td>\n      <td>NaN</td>\n      <td>NaN</td>\n      <td>NaN</td>\n      <td>NaN</td>\n      <td></td>\n    </tr>\n  </tbody>\n</table>\n</div>"
          },
          "metadata": {}
        }
      ]
    },
    {
      "cell_type": "code",
      "source": [
        "# scale values and drops unnecessary columns\n",
        "data[\"Latitude of the center\"] /= 10\n",
        "data[\"Longitude of the center\"] /= 10\n",
        "data = data.drop([\"Indicator of landfall or passage\"], axis=1)"
      ],
      "metadata": {
        "execution": {
          "iopub.status.busy": "2023-06-10T19:41:43.246888Z",
          "iopub.execute_input": "2023-06-10T19:41:43.247848Z",
          "iopub.status.idle": "2023-06-10T19:41:43.274290Z",
          "shell.execute_reply.started": "2023-06-10T19:41:43.247794Z",
          "shell.execute_reply": "2023-06-10T19:41:43.272795Z"
        },
        "trusted": true,
        "id": "gHMVRNkm3_qU"
      },
      "execution_count": null,
      "outputs": []
    },
    {
      "cell_type": "code",
      "source": [
        "# Drop rows before year 1977 because they used different method to grade and record typhoons\n",
        "data = data[data[\"year\"] >= 1977]\n",
        "data.info()"
      ],
      "metadata": {
        "execution": {
          "iopub.status.busy": "2023-06-10T19:41:43.277507Z",
          "iopub.execute_input": "2023-06-10T19:41:43.278260Z",
          "iopub.status.idle": "2023-06-10T19:41:43.319564Z",
          "shell.execute_reply.started": "2023-06-10T19:41:43.278207Z",
          "shell.execute_reply": "2023-06-10T19:41:43.318269Z"
        },
        "trusted": true,
        "id": "BgpVUL_33_qV",
        "outputId": "3b85c415-8d02-4ba8-8ca7-95860d6d7856"
      },
      "execution_count": null,
      "outputs": [
        {
          "name": "stdout",
          "text": "<class 'pandas.core.frame.DataFrame'>\nInt64Index: 43356 entries, 25268 to 68623\nData columns (total 16 columns):\n #   Column                                                    Non-Null Count  Dtype  \n---  ------                                                    --------------  -----  \n 0   International number ID                                   43356 non-null  int64  \n 1   year                                                      43356 non-null  int64  \n 2   month                                                     43356 non-null  int64  \n 3   day                                                       43356 non-null  int64  \n 4   hour                                                      43356 non-null  int64  \n 5   grade                                                     43356 non-null  object \n 6   Latitude of the center                                    43356 non-null  float64\n 7   Longitude of the center                                   43356 non-null  float64\n 8   Central pressure                                          43356 non-null  int64  \n 9   Maximum sustained wind speed                              43356 non-null  float64\n 10  Direction of the longest radius of 50kt winds or greater  27208 non-null  object \n 11  The longeast radius of 50kt winds or greater              27208 non-null  float64\n 12  The shortest radius of 50kt winds or greater              27208 non-null  float64\n 13  Direction of the longest radius of 30kt winds or greater  27208 non-null  object \n 14  The longeast radius of 30kt winds or greater              27208 non-null  float64\n 15  The shortest radius of 30kt winds or greater              27208 non-null  float64\ndtypes: float64(7), int64(6), object(3)\nmemory usage: 5.6+ MB\n",
          "output_type": "stream"
        }
      ]
    },
    {
      "cell_type": "markdown",
      "source": [
        "## Dealing with \"Just Entered\" grade.\n",
        "- There is no grade for just entered TDs.\n",
        "- Since there are only 28 those just entered rows, and They are first head of the TD datas...\n",
        "- Let's just Drop them for this time."
      ],
      "metadata": {
        "id": "WWCWEIaI3_qV"
      }
    },
    {
      "cell_type": "code",
      "source": [
        "idx = data[\"grade\"]==\"Just entering into the responsible area of RSMC Tokyo-Typhoon Center\"\n",
        "data[idx].shape"
      ],
      "metadata": {
        "execution": {
          "iopub.status.busy": "2023-06-10T19:41:43.321451Z",
          "iopub.execute_input": "2023-06-10T19:41:43.322159Z",
          "iopub.status.idle": "2023-06-10T19:41:43.340374Z",
          "shell.execute_reply.started": "2023-06-10T19:41:43.322105Z",
          "shell.execute_reply": "2023-06-10T19:41:43.339005Z"
        },
        "trusted": true,
        "id": "CyyUVhQe3_qV",
        "outputId": "d99b995a-b7b2-40ce-d8d8-b3a934508b65"
      },
      "execution_count": null,
      "outputs": [
        {
          "execution_count": 6,
          "output_type": "execute_result",
          "data": {
            "text/plain": "(28, 16)"
          },
          "metadata": {}
        }
      ]
    },
    {
      "cell_type": "code",
      "source": [
        "data = data.drop(data[idx].index)\n",
        "data.shape"
      ],
      "metadata": {
        "execution": {
          "iopub.status.busy": "2023-06-10T19:41:43.341895Z",
          "iopub.execute_input": "2023-06-10T19:41:43.343154Z",
          "iopub.status.idle": "2023-06-10T19:41:43.362312Z",
          "shell.execute_reply.started": "2023-06-10T19:41:43.343107Z",
          "shell.execute_reply": "2023-06-10T19:41:43.360688Z"
        },
        "trusted": true,
        "id": "RjOvRdkr3_qV",
        "outputId": "85f33fc5-233c-4a86-dfb5-d236abae8670"
      },
      "execution_count": null,
      "outputs": [
        {
          "execution_count": 7,
          "output_type": "execute_result",
          "data": {
            "text/plain": "(43328, 16)"
          },
          "metadata": {}
        }
      ]
    },
    {
      "cell_type": "markdown",
      "source": [
        "## Other things to Cleaning Data"
      ],
      "metadata": {
        "id": "JpwJy6oZ3_qV"
      }
    },
    {
      "cell_type": "code",
      "source": [
        "data[\"grade\"].unique()"
      ],
      "metadata": {
        "execution": {
          "iopub.status.busy": "2023-06-10T19:41:43.364424Z",
          "iopub.execute_input": "2023-06-10T19:41:43.365443Z",
          "iopub.status.idle": "2023-06-10T19:41:43.379983Z",
          "shell.execute_reply.started": "2023-06-10T19:41:43.365390Z",
          "shell.execute_reply": "2023-06-10T19:41:43.378378Z"
        },
        "trusted": true,
        "id": "E8cCWkDB3_qV",
        "outputId": "be55a986-47c5-4c52-b515-eab00b21635d"
      },
      "execution_count": null,
      "outputs": [
        {
          "execution_count": 8,
          "output_type": "execute_result",
          "data": {
            "text/plain": "array(['Tropical Depression', 'Severe Tropical Storm', 'Tropical Storm',\n       'Extra-tropical Cyclone', 'Typhoon'], dtype=object)"
          },
          "metadata": {}
        }
      ]
    },
    {
      "cell_type": "code",
      "source": [
        "data = data.replace(\"Tropical Depression\", \"TD\")\n",
        "data = data.replace(\"Severe Tropical Storm\", \"STS\")\n",
        "data = data.replace(\"Tropical Storm\", \"TS\")\n",
        "data = data.replace(\"Extra-tropical Cyclone\", \"L\")\n",
        "data = data.replace(\"Typhoon\", \"TY\")"
      ],
      "metadata": {
        "execution": {
          "iopub.status.busy": "2023-06-10T19:41:43.382312Z",
          "iopub.execute_input": "2023-06-10T19:41:43.382808Z",
          "iopub.status.idle": "2023-06-10T19:41:43.449504Z",
          "shell.execute_reply.started": "2023-06-10T19:41:43.382754Z",
          "shell.execute_reply": "2023-06-10T19:41:43.448445Z"
        },
        "trusted": true,
        "id": "oyrCxL_N3_qW"
      },
      "execution_count": null,
      "outputs": []
    },
    {
      "cell_type": "markdown",
      "source": [
        "# Drop the rows that is not typhoon.\n",
        "- We want to predict(forecast) typhoons movement and size, directions like that.\n",
        "- So we don't need minor informations of Tropical Depressions and Cyclones."
      ],
      "metadata": {
        "id": "ZFO98dxA3_qW"
      }
    },
    {
      "cell_type": "code",
      "source": [
        "data[data[\"Direction of the longest radius of 50kt winds or greater\"].isna()][\"grade\"].unique()\n",
        "data[data[\"Direction of the longest radius of 50kt winds or greater\"].notna()][\"grade\"].unique()"
      ],
      "metadata": {
        "execution": {
          "iopub.status.busy": "2023-06-10T19:41:43.451215Z",
          "iopub.execute_input": "2023-06-10T19:41:43.452028Z",
          "iopub.status.idle": "2023-06-10T19:41:43.483383Z",
          "shell.execute_reply.started": "2023-06-10T19:41:43.451978Z",
          "shell.execute_reply": "2023-06-10T19:41:43.481564Z"
        },
        "trusted": true,
        "id": "eBqBfCe63_qW",
        "outputId": "4a556fe2-c24b-4b53-ea38-1c69ce8843e6"
      },
      "execution_count": null,
      "outputs": [
        {
          "execution_count": 10,
          "output_type": "execute_result",
          "data": {
            "text/plain": "array(['STS', 'TS', 'TY'], dtype=object)"
          },
          "metadata": {}
        }
      ]
    },
    {
      "cell_type": "code",
      "source": [
        "data = data.dropna()"
      ],
      "metadata": {
        "execution": {
          "iopub.status.busy": "2023-06-10T19:41:43.490800Z",
          "iopub.execute_input": "2023-06-10T19:41:43.491744Z",
          "iopub.status.idle": "2023-06-10T19:41:43.523064Z",
          "shell.execute_reply.started": "2023-06-10T19:41:43.491695Z",
          "shell.execute_reply": "2023-06-10T19:41:43.521718Z"
        },
        "trusted": true,
        "id": "mrJoYWtN3_qW"
      },
      "execution_count": null,
      "outputs": []
    },
    {
      "cell_type": "markdown",
      "source": [
        "# Data Vectorization"
      ],
      "metadata": {
        "id": "zbA1C_pU3_qW"
      }
    },
    {
      "cell_type": "code",
      "source": [
        "data = data.drop([\"Direction of the longest radius of 50kt winds or greater\", \"Direction of the longest radius of 30kt winds or greater\"], axis=1)"
      ],
      "metadata": {
        "execution": {
          "iopub.status.busy": "2023-06-10T19:41:43.525368Z",
          "iopub.execute_input": "2023-06-10T19:41:43.525936Z",
          "iopub.status.idle": "2023-06-10T19:41:43.536004Z",
          "shell.execute_reply.started": "2023-06-10T19:41:43.525865Z",
          "shell.execute_reply": "2023-06-10T19:41:43.534375Z"
        },
        "trusted": true,
        "id": "XfC7-DKm3_qW"
      },
      "execution_count": null,
      "outputs": []
    },
    {
      "cell_type": "code",
      "source": [
        "grade_map = {\"TD\":1, \"TS\":2, \"STS\":3, \"TY\":4}  # I made grade map using the starndard for grade Tropical Depressions of WMO\n",
        "data[\"grade\"] = data[\"grade\"].map(grade_map)"
      ],
      "metadata": {
        "execution": {
          "iopub.status.busy": "2023-06-10T19:41:43.537591Z",
          "iopub.execute_input": "2023-06-10T19:41:43.538630Z",
          "iopub.status.idle": "2023-06-10T19:41:43.552581Z",
          "shell.execute_reply.started": "2023-06-10T19:41:43.538525Z",
          "shell.execute_reply": "2023-06-10T19:41:43.551239Z"
        },
        "trusted": true,
        "id": "CaxKzBg93_qW"
      },
      "execution_count": null,
      "outputs": []
    },
    {
      "cell_type": "markdown",
      "source": [
        "## Generalize measured time of data\n",
        "- Most of our data is measured in every 6 hours.\n",
        "- But some of our data is measured in 3 hours after the previous measure.\n",
        "- So I will drop every 3 hour interval rows for simplify our task."
      ],
      "metadata": {
        "id": "Rh1yZolJ3_qX"
      }
    },
    {
      "cell_type": "code",
      "source": [
        "data = data[data[\"hour\"] % 6 == 0]"
      ],
      "metadata": {
        "execution": {
          "iopub.status.busy": "2023-06-10T19:41:43.554325Z",
          "iopub.execute_input": "2023-06-10T19:41:43.554822Z",
          "iopub.status.idle": "2023-06-10T19:41:43.569217Z",
          "shell.execute_reply.started": "2023-06-10T19:41:43.554767Z",
          "shell.execute_reply": "2023-06-10T19:41:43.568194Z"
        },
        "trusted": true,
        "id": "RV049n9E3_qX"
      },
      "execution_count": null,
      "outputs": []
    },
    {
      "cell_type": "markdown",
      "source": [
        "# Grouping data rows by each typhoons"
      ],
      "metadata": {
        "id": "Co94_PJR3_qX"
      }
    },
    {
      "cell_type": "code",
      "source": [
        "data.head()"
      ],
      "metadata": {
        "execution": {
          "iopub.status.busy": "2023-06-10T19:41:43.570854Z",
          "iopub.execute_input": "2023-06-10T19:41:43.571346Z",
          "iopub.status.idle": "2023-06-10T19:41:43.600270Z",
          "shell.execute_reply.started": "2023-06-10T19:41:43.571298Z",
          "shell.execute_reply": "2023-06-10T19:41:43.598743Z"
        },
        "trusted": true,
        "id": "KUjyPSY13_qX",
        "outputId": "85879d11-7dfb-4889-8f7b-53ad92014760"
      },
      "execution_count": null,
      "outputs": [
        {
          "execution_count": 15,
          "output_type": "execute_result",
          "data": {
            "text/plain": "       International number ID  year  month  day  hour  grade  \\\n25272                     7701  1977      3   28     0      3   \n25273                     7701  1977      3   28     6      3   \n25274                     7701  1977      3   28    12      3   \n25275                     7701  1977      3   28    18      2   \n25276                     7701  1977      3   29     0      2   \n\n       Latitude of the center  Longitude of the center  Central pressure  \\\n25272                     5.6                    158.8               990   \n25273                     6.1                    158.2               996   \n25274                     6.6                    157.5              1000   \n25275                     7.0                    156.8              1002   \n25276                     7.3                    156.0              1002   \n\n       Maximum sustained wind speed  \\\n25272                          50.0   \n25273                          50.0   \n25274                          50.0   \n25275                          45.0   \n25276                          45.0   \n\n       The longeast radius of 50kt winds or greater  \\\n25272                                           0.0   \n25273                                           0.0   \n25274                                           0.0   \n25275                                           0.0   \n25276                                           0.0   \n\n       The shortest radius of 50kt winds or greater  \\\n25272                                           0.0   \n25273                                           0.0   \n25274                                           0.0   \n25275                                           0.0   \n25276                                           0.0   \n\n       The longeast radius of 30kt winds or greater  \\\n25272                                         125.0   \n25273                                         125.0   \n25274                                         125.0   \n25275                                         100.0   \n25276                                         100.0   \n\n       The shortest radius of 30kt winds or greater  \n25272                                         125.0  \n25273                                         125.0  \n25274                                         125.0  \n25275                                         100.0  \n25276                                         100.0  ",
            "text/html": "<div>\n<style scoped>\n    .dataframe tbody tr th:only-of-type {\n        vertical-align: middle;\n    }\n\n    .dataframe tbody tr th {\n        vertical-align: top;\n    }\n\n    .dataframe thead th {\n        text-align: right;\n    }\n</style>\n<table border=\"1\" class=\"dataframe\">\n  <thead>\n    <tr style=\"text-align: right;\">\n      <th></th>\n      <th>International number ID</th>\n      <th>year</th>\n      <th>month</th>\n      <th>day</th>\n      <th>hour</th>\n      <th>grade</th>\n      <th>Latitude of the center</th>\n      <th>Longitude of the center</th>\n      <th>Central pressure</th>\n      <th>Maximum sustained wind speed</th>\n      <th>The longeast radius of 50kt winds or greater</th>\n      <th>The shortest radius of 50kt winds or greater</th>\n      <th>The longeast radius of 30kt winds or greater</th>\n      <th>The shortest radius of 30kt winds or greater</th>\n    </tr>\n  </thead>\n  <tbody>\n    <tr>\n      <th>25272</th>\n      <td>7701</td>\n      <td>1977</td>\n      <td>3</td>\n      <td>28</td>\n      <td>0</td>\n      <td>3</td>\n      <td>5.6</td>\n      <td>158.8</td>\n      <td>990</td>\n      <td>50.0</td>\n      <td>0.0</td>\n      <td>0.0</td>\n      <td>125.0</td>\n      <td>125.0</td>\n    </tr>\n    <tr>\n      <th>25273</th>\n      <td>7701</td>\n      <td>1977</td>\n      <td>3</td>\n      <td>28</td>\n      <td>6</td>\n      <td>3</td>\n      <td>6.1</td>\n      <td>158.2</td>\n      <td>996</td>\n      <td>50.0</td>\n      <td>0.0</td>\n      <td>0.0</td>\n      <td>125.0</td>\n      <td>125.0</td>\n    </tr>\n    <tr>\n      <th>25274</th>\n      <td>7701</td>\n      <td>1977</td>\n      <td>3</td>\n      <td>28</td>\n      <td>12</td>\n      <td>3</td>\n      <td>6.6</td>\n      <td>157.5</td>\n      <td>1000</td>\n      <td>50.0</td>\n      <td>0.0</td>\n      <td>0.0</td>\n      <td>125.0</td>\n      <td>125.0</td>\n    </tr>\n    <tr>\n      <th>25275</th>\n      <td>7701</td>\n      <td>1977</td>\n      <td>3</td>\n      <td>28</td>\n      <td>18</td>\n      <td>2</td>\n      <td>7.0</td>\n      <td>156.8</td>\n      <td>1002</td>\n      <td>45.0</td>\n      <td>0.0</td>\n      <td>0.0</td>\n      <td>100.0</td>\n      <td>100.0</td>\n    </tr>\n    <tr>\n      <th>25276</th>\n      <td>7701</td>\n      <td>1977</td>\n      <td>3</td>\n      <td>29</td>\n      <td>0</td>\n      <td>2</td>\n      <td>7.3</td>\n      <td>156.0</td>\n      <td>1002</td>\n      <td>45.0</td>\n      <td>0.0</td>\n      <td>0.0</td>\n      <td>100.0</td>\n      <td>100.0</td>\n    </tr>\n  </tbody>\n</table>\n</div>"
          },
          "metadata": {}
        }
      ]
    },
    {
      "cell_type": "code",
      "source": [
        "ids = data[\"International number ID\"].unique() # Unique IDs of typhoons\n",
        "typhoons = list()\n",
        "for ID in ids:\n",
        "    typhoon = data[data[\"International number ID\"] == ID]\n",
        "    typhoon = typhoon.drop([\"International number ID\"], axis=1)\n",
        "    typhoons.append(typhoon)\n",
        "print(len(typhoons))"
      ],
      "metadata": {
        "execution": {
          "iopub.status.busy": "2023-06-10T19:41:43.602223Z",
          "iopub.execute_input": "2023-06-10T19:41:43.603720Z",
          "iopub.status.idle": "2023-06-10T19:41:44.887650Z",
          "shell.execute_reply.started": "2023-06-10T19:41:43.603659Z",
          "shell.execute_reply": "2023-06-10T19:41:44.886259Z"
        },
        "trusted": true,
        "id": "aapkHqtc3_qX",
        "outputId": "32505827-e3a3-41c5-a992-2388a9159e96"
      },
      "execution_count": null,
      "outputs": [
        {
          "name": "stdout",
          "text": "1174\n",
          "output_type": "stream"
        }
      ]
    },
    {
      "cell_type": "markdown",
      "source": [
        "# How many data do we have?\n",
        "- Quantity of data is different by each typhoon.\n",
        "- Let's check a histogram."
      ],
      "metadata": {
        "id": "RKBmu45d3_qX"
      }
    },
    {
      "cell_type": "code",
      "source": [
        "hist = data[\"International number ID\"].value_counts()\n",
        "n = plt.hist(hist)\n",
        "plt.show()\n",
        "print(n[0])"
      ],
      "metadata": {
        "execution": {
          "iopub.status.busy": "2023-06-10T19:41:44.889104Z",
          "iopub.execute_input": "2023-06-10T19:41:44.889470Z",
          "iopub.status.idle": "2023-06-10T19:41:45.150181Z",
          "shell.execute_reply.started": "2023-06-10T19:41:44.889434Z",
          "shell.execute_reply": "2023-06-10T19:41:45.148965Z"
        },
        "trusted": true,
        "id": "PihNztDw3_qX",
        "outputId": "d16cce4f-1287-409f-e093-c13676b5d4f1"
      },
      "execution_count": null,
      "outputs": [
        {
          "output_type": "display_data",
          "data": {
            "text/plain": "<Figure size 640x480 with 1 Axes>",
            "image/png": "[encoded data removed]"
          },
          "metadata": {}
        },
        {
          "name": "stdout",
          "text": "[200. 249. 286. 185. 133.  68.  38.  13.   0.   2.]\n",
          "output_type": "stream"
        }
      ]
    },
    {
      "cell_type": "markdown",
      "source": [
        "- Luckily, more than 75% of typhoons contains >10 rows."
      ],
      "metadata": {
        "id": "fLeiCB4v3_qX"
      }
    },
    {
      "cell_type": "markdown",
      "source": [
        "# Make Dataset for ML\n",
        "- Let's Define our task.\n",
        "- We're going to predict the typhoon's future state using the typhoon's previous state.\n",
        "- Than how much previous state datas are we gonna use?\n",
        "  - Basically, There are 6 hours interval between each row.\n",
        "  - But in some case, There are 3 hours interval.\n",
        "  - So using previous state of 3 hours ago is our best option. But there is a lack of data.\n",
        "  - Let's try to use 6 hours ago data for this time.\n",
        "\n",
        "## summary\n",
        "- We're gonna predict typhoon's state of 6 hours later with state of current typhoon and 6 hours previous state of typhoon.\n",
        "- We'll predict the state of typhoon below.\n",
        "  - Location(latitude and longitude) of the center, Central Pressure, wind speed, radius of 50kt/30kt winds or greater."
      ],
      "metadata": {
        "id": "l0AhhW3u3_qY"
      }
    },
    {
      "cell_type": "code",
      "source": [
        "interval = 1\n",
        "dataset = np.empty((0, 3, 13))\n",
        "test_typhoons = np.empty((0,3,13))  # Preserve Some typhoons for model evaluation\n",
        "\n",
        "for typhoon in typhoons:\n",
        "    nptyphoon = np.array(typhoon)\n",
        "    for i in range(0, nptyphoon.shape[0]-3, interval):\n",
        "        single_data = nptyphoon[i:i+3]\n",
        "        single_data = np.expand_dims(single_data, axis=0)\n",
        "        if typhoon.iloc[0][\"year\"]==2022:\n",
        "            test_typhoons = np.append(test_typhoons, single_data, axis=0)\n",
        "            continue\n",
        "        dataset = np.append(dataset, single_data, axis=0)\n",
        "print(dataset.shape)\n",
        "print(test_typhoons.shape)"
      ],
      "metadata": {
        "execution": {
          "iopub.status.busy": "2023-06-10T19:41:45.152099Z",
          "iopub.execute_input": "2023-06-10T19:41:45.152449Z",
          "iopub.status.idle": "2023-06-10T19:42:13.608431Z",
          "shell.execute_reply.started": "2023-06-10T19:41:45.152415Z",
          "shell.execute_reply": "2023-06-10T19:42:13.607062Z"
        },
        "trusted": true,
        "id": "Odc8Odc83_qY",
        "outputId": "3930eaf2-fc2b-4dce-d14e-7605b61726d7"
      },
      "execution_count": null,
      "outputs": [
        {
          "name": "stdout",
          "text": "(20778, 3, 13)\n(297, 3, 13)\n",
          "output_type": "stream"
        }
      ]
    },
    {
      "cell_type": "markdown",
      "source": [
        "# ii. Modelling"
      ],
      "metadata": {
        "id": "3ndMGgLd3_qY"
      }
    },
    {
      "cell_type": "code",
      "source": [
        "# X, Y split\n",
        "x = dataset[:, :2, :]\n",
        "y = dataset[:, 2, 5:] # we don't predict year, month, day, hour, and grade\n",
        "\n",
        "# Train, Test split\n",
        "from sklearn.model_selection import train_test_split\n",
        "x_train, x_val, y_train, y_val = train_test_split(x, y, test_size=0.3, random_state=42, shuffle=True)\n",
        "print(x_train.shape)\n",
        "print(y_train.shape)\n",
        "print(x_val.shape)\n",
        "print(y_val.shape)"
      ],
      "metadata": {
        "execution": {
          "iopub.status.busy": "2023-06-10T19:42:13.610205Z",
          "iopub.execute_input": "2023-06-10T19:42:13.610586Z",
          "iopub.status.idle": "2023-06-10T19:42:14.068835Z",
          "shell.execute_reply.started": "2023-06-10T19:42:13.610538Z",
          "shell.execute_reply": "2023-06-10T19:42:14.067189Z"
        },
        "trusted": true,
        "id": "89wbNNBu3_qY",
        "outputId": "13a49919-7021-4304-e28d-6020d4880f23"
      },
      "execution_count": null,
      "outputs": [
        {
          "name": "stdout",
          "text": "(14544, 2, 13)\n(14544, 8)\n(6234, 2, 13)\n(6234, 8)\n",
          "output_type": "stream"
        }
      ]
    },
    {
      "cell_type": "code",
      "source": [
        "# Flatten X data\n",
        "x_train = x_train.reshape(-1, 26)\n",
        "x_val = x_val.reshape(-1, 26)"
      ],
      "metadata": {
        "execution": {
          "iopub.status.busy": "2023-06-10T19:42:14.070586Z",
          "iopub.execute_input": "2023-06-10T19:42:14.071055Z",
          "iopub.status.idle": "2023-06-10T19:42:14.079049Z",
          "shell.execute_reply.started": "2023-06-10T19:42:14.071012Z",
          "shell.execute_reply": "2023-06-10T19:42:14.076989Z"
        },
        "trusted": true,
        "id": "IVGpc4dl3_qY"
      },
      "execution_count": null,
      "outputs": []
    },
    {
      "cell_type": "code",
      "source": [
        "from sklearn.preprocessing import StandardScaler\n",
        "scale = StandardScaler()\n",
        "\n",
        "x_train = scale.fit_transform(x_train)\n",
        "x_val = scale.transform(x_val)"
      ],
      "metadata": {
        "execution": {
          "iopub.status.busy": "2023-06-10T19:42:14.081421Z",
          "iopub.execute_input": "2023-06-10T19:42:14.081941Z",
          "iopub.status.idle": "2023-06-10T19:42:14.106651Z",
          "shell.execute_reply.started": "2023-06-10T19:42:14.081866Z",
          "shell.execute_reply": "2023-06-10T19:42:14.104137Z"
        },
        "trusted": true,
        "id": "rzM5WwNu3_qY"
      },
      "execution_count": null,
      "outputs": []
    },
    {
      "cell_type": "markdown",
      "source": [
        "## Linear Regression"
      ],
      "metadata": {
        "id": "dSQHa3Fo3_qY"
      }
    },
    {
      "cell_type": "code",
      "source": [
        "from sklearn.linear_model import LinearRegression\n",
        "from sklearn.metrics import mean_squared_error\n",
        "lr = LinearRegression()\n",
        "lr.fit(x_train, y_train)\n",
        "pred = lr.predict(x_train)\n",
        "rmse = mean_squared_error(pred, y_train, squared=False)\n",
        "\n",
        "print(\"Training Score:\", rmse)\n",
        "\n",
        "pred = lr.predict(x_val)\n",
        "rmse = mean_squared_error(pred, y_val, squared=False)\n",
        "print(\"Test Score:\", rmse)"
      ],
      "metadata": {
        "execution": {
          "iopub.status.busy": "2023-06-10T19:42:14.108729Z",
          "iopub.execute_input": "2023-06-10T19:42:14.109556Z",
          "iopub.status.idle": "2023-06-10T19:42:14.258059Z",
          "shell.execute_reply.started": "2023-06-10T19:42:14.109501Z",
          "shell.execute_reply": "2023-06-10T19:42:14.256607Z"
        },
        "trusted": true,
        "id": "Mgm2F7sR3_qY",
        "outputId": "7ef1ae3f-e60c-43f6-da4d-b6b996df9575"
      },
      "execution_count": null,
      "outputs": [
        {
          "name": "stdout",
          "text": "Training Score: 10.686176285554538\nTest Score: 10.78454339830996\n",
          "output_type": "stream"
        }
      ]
    },
    {
      "cell_type": "markdown",
      "source": [
        "## Random Forest"
      ],
      "metadata": {
        "id": "2tXATY5C3_qZ"
      }
    },
    {
      "cell_type": "code",
      "source": [
        "from sklearn.ensemble import RandomForestRegressor\n",
        "rf = RandomForestRegressor(random_state=42)\n",
        "rf.fit(x_train, y_train)\n",
        "pred = rf.predict(x_train)\n",
        "rmse = mean_squared_error(pred, y_train, squared=False)\n",
        "\n",
        "print(\"Training Score:\", rmse)\n",
        "\n",
        "pred = rf.predict(x_val)\n",
        "rmse = mean_squared_error(pred, y_val, squared=False)\n",
        "print(\"Test Score:\", rmse)"
      ],
      "metadata": {
        "execution": {
          "iopub.status.busy": "2023-06-10T19:42:14.260136Z",
          "iopub.execute_input": "2023-06-10T19:42:14.261946Z",
          "iopub.status.idle": "2023-06-10T19:42:32.133383Z",
          "shell.execute_reply.started": "2023-06-10T19:42:14.261873Z",
          "shell.execute_reply": "2023-06-10T19:42:32.131745Z"
        },
        "trusted": true,
        "id": "U1Pb1RKn3_qZ",
        "outputId": "4fbea69f-99c6-448c-e41f-efd080332c76"
      },
      "execution_count": null,
      "outputs": [
        {
          "name": "stdout",
          "text": "Training Score: 4.655965608421148\nTest Score: 12.517143272553808\n",
          "output_type": "stream"
        }
      ]
    },
    {
      "cell_type": "markdown",
      "source": [
        "## Deep Neural Network (MLP)"
      ],
      "metadata": {
        "id": "fyJ-usbc3_qZ"
      }
    },
    {
      "cell_type": "code",
      "source": [
        "import torch\n",
        "from torch import nn\n",
        "import random\n",
        "\n",
        "random.seed(42)\n",
        "torch.manual_seed(42)\n",
        "\n",
        "x_train_t = torch.tensor(x_train, dtype=torch.float)\n",
        "x_val_t = torch.tensor(x_val, dtype=torch.float)\n",
        "y_train_t = torch.tensor(y_train, dtype=torch.float)\n",
        "y_val_t = torch.tensor(y_val, dtype=torch.float)"
      ],
      "metadata": {
        "execution": {
          "iopub.status.busy": "2023-06-10T19:42:32.135163Z",
          "iopub.execute_input": "2023-06-10T19:42:32.135535Z",
          "iopub.status.idle": "2023-06-10T19:42:34.729727Z",
          "shell.execute_reply.started": "2023-06-10T19:42:32.135499Z",
          "shell.execute_reply": "2023-06-10T19:42:34.728251Z"
        },
        "trusted": true,
        "id": "CPzFoGoh3_qZ"
      },
      "execution_count": null,
      "outputs": []
    },
    {
      "cell_type": "code",
      "source": [
        "batch_size=100\n",
        "training_epochs=15\n",
        "learning_rate=0.001"
      ],
      "metadata": {
        "execution": {
          "iopub.status.busy": "2023-06-10T19:42:34.731905Z",
          "iopub.execute_input": "2023-06-10T19:42:34.732629Z",
          "iopub.status.idle": "2023-06-10T19:42:34.738963Z",
          "shell.execute_reply.started": "2023-06-10T19:42:34.732585Z",
          "shell.execute_reply": "2023-06-10T19:42:34.737607Z"
        },
        "trusted": true,
        "id": "L_6Q5DDa3_qZ"
      },
      "execution_count": null,
      "outputs": []
    },
    {
      "cell_type": "code",
      "source": [
        "data_loader = torch.utils.data.DataLoader(dataset=torch.utils.data.TensorDataset(x_train_t, y_train_t),\n",
        "                          batch_size=batch_size,\n",
        "                          shuffle=True,\n",
        "                          drop_last=True)"
      ],
      "metadata": {
        "execution": {
          "iopub.status.busy": "2023-06-10T19:42:34.741276Z",
          "iopub.execute_input": "2023-06-10T19:42:34.741717Z",
          "iopub.status.idle": "2023-06-10T19:42:34.754983Z",
          "shell.execute_reply.started": "2023-06-10T19:42:34.741659Z",
          "shell.execute_reply": "2023-06-10T19:42:34.753476Z"
        },
        "trusted": true,
        "id": "oc57--nK3_qg"
      },
      "execution_count": null,
      "outputs": []
    },
    {
      "cell_type": "code",
      "source": [
        "model = nn.Sequential(nn.Linear(x_train_t.shape[1], 10),\n",
        "                      nn.ReLU(inplace=True),\n",
        "                      nn.Linear(10, y_train_t.shape[1]))"
      ],
      "metadata": {
        "execution": {
          "iopub.status.busy": "2023-06-10T19:42:34.756885Z",
          "iopub.execute_input": "2023-06-10T19:42:34.757351Z",
          "iopub.status.idle": "2023-06-10T19:42:34.780168Z",
          "shell.execute_reply.started": "2023-06-10T19:42:34.757310Z",
          "shell.execute_reply": "2023-06-10T19:42:34.778591Z"
        },
        "trusted": true,
        "id": "OMX2fUaU3_qh"
      },
      "execution_count": null,
      "outputs": []
    },
    {
      "cell_type": "code",
      "source": [
        "criterion = nn.MSELoss()\n",
        "optimizer = torch.optim.SGD(model.parameters(), lr=learning_rate)"
      ],
      "metadata": {
        "execution": {
          "iopub.status.busy": "2023-06-10T19:42:34.781896Z",
          "iopub.execute_input": "2023-06-10T19:42:34.782309Z",
          "iopub.status.idle": "2023-06-10T19:42:34.788934Z",
          "shell.execute_reply.started": "2023-06-10T19:42:34.782268Z",
          "shell.execute_reply": "2023-06-10T19:42:34.787502Z"
        },
        "trusted": true,
        "id": "tfMu8jGF3_qh"
      },
      "execution_count": null,
      "outputs": []
    },
    {
      "cell_type": "code",
      "source": [
        "for epoch in range(1, training_epochs+1):\n",
        "    avg_cost = 0\n",
        "    total_batch = len(data_loader)\n",
        "\n",
        "    for x_batch, y_batch in data_loader:\n",
        "        optimizer.zero_grad()\n",
        "        hypothesis = model(x_batch)\n",
        "        cost = criterion(hypothesis, y_batch)\n",
        "        cost.backward()\n",
        "        optimizer.step()\n",
        "\n",
        "        avg_cost += cost\n",
        "    avg_cost /= total_batch\n",
        "    if epoch%10 == 0 or True:\n",
        "        print(\"Epoch:\", epoch, \"cost:\", avg_cost.item())"
      ],
      "metadata": {
        "execution": {
          "iopub.status.busy": "2023-06-10T19:42:34.795985Z",
          "iopub.execute_input": "2023-06-10T19:42:34.796375Z",
          "iopub.status.idle": "2023-06-10T19:42:38.028519Z",
          "shell.execute_reply.started": "2023-06-10T19:42:34.796340Z",
          "shell.execute_reply": "2023-06-10T19:42:38.027352Z"
        },
        "trusted": true,
        "id": "tfzaYvUK3_qh",
        "outputId": "e94d9c01-75e7-413f-a993-c11c2a2a5f04"
      },
      "execution_count": null,
      "outputs": [
        {
          "name": "stdout",
          "text": "Epoch: 1 cost: 17121.82421875\nEpoch: 2 cost: 723.2607421875\nEpoch: 3 cost: 588.813720703125\nEpoch: 4 cost: 513.271728515625\nEpoch: 5 cost: 477.1266174316406\nEpoch: 6 cost: 446.0960388183594\nEpoch: 7 cost: 397.3575134277344\nEpoch: 8 cost: 348.381591796875\nEpoch: 9 cost: 320.035888671875\nEpoch: 10 cost: 315.9840393066406\nEpoch: 11 cost: 285.3972473144531\nEpoch: 12 cost: 269.09588623046875\nEpoch: 13 cost: 257.46771240234375\nEpoch: 14 cost: 255.88619995117188\nEpoch: 15 cost: 244.55560302734375\n",
          "output_type": "stream"
        }
      ]
    },
    {
      "cell_type": "code",
      "source": [
        "model.eval()\n",
        "with torch.no_grad():\n",
        "    pred = model(x_val_t)\n",
        "\n",
        "rmse = mean_squared_error(pred, y_val, squared=False)\n",
        "print(\"Test Score:\", rmse)"
      ],
      "metadata": {
        "execution": {
          "iopub.status.busy": "2023-06-10T19:42:38.029820Z",
          "iopub.execute_input": "2023-06-10T19:42:38.030719Z",
          "iopub.status.idle": "2023-06-10T19:42:38.040466Z",
          "shell.execute_reply.started": "2023-06-10T19:42:38.030679Z",
          "shell.execute_reply": "2023-06-10T19:42:38.038948Z"
        },
        "trusted": true,
        "id": "RszEJMJP3_qh",
        "outputId": "106c2ed0-9b26-44e4-b5ff-6a6e735ebc20"
      },
      "execution_count": null,
      "outputs": [
        {
          "name": "stdout",
          "text": "Test Score: 13.3482272447973\n",
          "output_type": "stream"
        }
      ]
    },
    {
      "cell_type": "markdown",
      "source": [
        "# iii. Results (findings, numerical results and visualizations)"
      ],
      "metadata": {
        "id": "7R1fMoY-3_qh"
      }
    },
    {
      "cell_type": "code",
      "source": [
        "x_test = test_typhoons[:, :2, :]\n",
        "y_test = test_typhoons[:, 2, 5:] # we don't predict year, month, day, hour, and grade\n",
        "# Flatten X data\n",
        "x_test = x_test.reshape(-1, 26)\n",
        "x_test = scale.transform(x_test)"
      ],
      "metadata": {
        "execution": {
          "iopub.status.busy": "2023-06-10T19:42:38.042278Z",
          "iopub.execute_input": "2023-06-10T19:42:38.042652Z",
          "iopub.status.idle": "2023-06-10T19:42:38.051976Z",
          "shell.execute_reply.started": "2023-06-10T19:42:38.042613Z",
          "shell.execute_reply": "2023-06-10T19:42:38.050498Z"
        },
        "trusted": true,
        "id": "VxuNbCK13_qi"
      },
      "execution_count": null,
      "outputs": []
    },
    {
      "cell_type": "code",
      "source": [
        "lr_pred = lr.predict(x_test)  # Linear Regression\n",
        "rmse = mean_squared_error(lr_pred, y_test, squared=False)\n",
        "print(\"Test Score:\", rmse)"
      ],
      "metadata": {
        "execution": {
          "iopub.status.busy": "2023-06-10T19:42:38.053626Z",
          "iopub.execute_input": "2023-06-10T19:42:38.053999Z",
          "iopub.status.idle": "2023-06-10T19:42:38.065378Z",
          "shell.execute_reply.started": "2023-06-10T19:42:38.053963Z",
          "shell.execute_reply": "2023-06-10T19:42:38.064145Z"
        },
        "trusted": true,
        "id": "D0KjBx-N3_qi",
        "outputId": "d788ef5f-e694-4a40-9448-7e6839de768e"
      },
      "execution_count": null,
      "outputs": [
        {
          "name": "stdout",
          "text": "Test Score: 9.52968080194886\n",
          "output_type": "stream"
        }
      ]
    },
    {
      "cell_type": "code",
      "source": [
        "rf_pred = rf.predict(x_test)  # Random Forest\n",
        "rmse = mean_squared_error(rf_pred, y_test, squared=False)\n",
        "print(\"Test Score:\", rmse)"
      ],
      "metadata": {
        "execution": {
          "iopub.status.busy": "2023-06-10T19:42:38.067522Z",
          "iopub.execute_input": "2023-06-10T19:42:38.068078Z",
          "iopub.status.idle": "2023-06-10T19:42:38.108959Z",
          "shell.execute_reply.started": "2023-06-10T19:42:38.068021Z",
          "shell.execute_reply": "2023-06-10T19:42:38.107514Z"
        },
        "trusted": true,
        "id": "1vduwgn23_qi",
        "outputId": "ec15bb28-770e-4f80-ce29-613a776969a4"
      },
      "execution_count": null,
      "outputs": [
        {
          "name": "stdout",
          "text": "Test Score: 13.334438212410182\n",
          "output_type": "stream"
        }
      ]
    },
    {
      "cell_type": "code",
      "source": [
        "x_test_t = torch.tensor(x_test, dtype=torch.float)\n",
        "with torch.no_grad():\n",
        "    dl_pred = model(x_test_t)  # MLP\n",
        "\n",
        "rmse = mean_squared_error(dl_pred, y_test, squared=False)\n",
        "print(\"Test Score:\", rmse)"
      ],
      "metadata": {
        "execution": {
          "iopub.status.busy": "2023-06-10T19:42:38.110532Z",
          "iopub.execute_input": "2023-06-10T19:42:38.110868Z",
          "iopub.status.idle": "2023-06-10T19:42:38.120500Z",
          "shell.execute_reply.started": "2023-06-10T19:42:38.110834Z",
          "shell.execute_reply": "2023-06-10T19:42:38.119062Z"
        },
        "trusted": true,
        "id": "30lsjhZk3_qi",
        "outputId": "04b5e117-2b92-47be-fa83-ddd47f57534a"
      },
      "execution_count": null,
      "outputs": [
        {
          "name": "stdout",
          "text": "Test Score: 11.900496881917787\n",
          "output_type": "stream"
        }
      ]
    },
    {
      "cell_type": "markdown",
      "source": [
        "## Pick a sample"
      ],
      "metadata": {
        "id": "iHE4Umh83_qi"
      }
    },
    {
      "cell_type": "code",
      "source": [
        "idx = random.randint(0, len(x_test))\n",
        "x_sample = scale.inverse_transform(x_test[idx].reshape(1, -1))\n",
        "x_sample = x_sample.reshape(2, -1)\n",
        "print(x_sample.shape)\n",
        "print(x_sample.tolist())"
      ],
      "metadata": {
        "execution": {
          "iopub.status.busy": "2023-06-10T19:42:38.122903Z",
          "iopub.execute_input": "2023-06-10T19:42:38.123475Z",
          "iopub.status.idle": "2023-06-10T19:42:38.134507Z",
          "shell.execute_reply.started": "2023-06-10T19:42:38.123417Z",
          "shell.execute_reply": "2023-06-10T19:42:38.133010Z"
        },
        "trusted": true,
        "id": "i6-c-vWk3_qi",
        "outputId": "22a9361d-b660-4181-d83d-ea0fa3517c7f"
      },
      "execution_count": null,
      "outputs": [
        {
          "name": "stdout",
          "text": "(2, 13)\n[[2022.0, 7.0, 29.0, 12.0, 2.0, 30.1, 129.9, 1000.0, 40.0, 0.0, 0.0, 240.0, 150.0], [2022.0, 7.0, 29.0, 18.0, 2.0, 30.7, 128.5, 1000.0, 35.0, 7.105427357601002e-15, -7.105427357601002e-15, 240.0, 150.0]]\n",
          "output_type": "stream"
        }
      ]
    },
    {
      "cell_type": "code",
      "source": [
        "y_sample = y_test[idx]\n",
        "lr_pred_sample = np.array(lr_pred[idx])\n",
        "rf_pred_sample = np.array(rf_pred[idx])\n",
        "dl_pred_sample = np.array(dl_pred[idx])\n",
        "print(y_sample)\n",
        "print(lr_pred_sample)\n",
        "print(y_sample - lr_pred_sample)"
      ],
      "metadata": {
        "execution": {
          "iopub.status.busy": "2023-06-10T19:43:36.206525Z",
          "iopub.execute_input": "2023-06-10T19:43:36.207106Z",
          "iopub.status.idle": "2023-06-10T19:43:36.218003Z",
          "shell.execute_reply.started": "2023-06-10T19:43:36.207046Z",
          "shell.execute_reply": "2023-06-10T19:43:36.216584Z"
        },
        "trusted": true,
        "id": "x1QfluZV3_qi",
        "outputId": "89d68f0b-6b20-41a1-ad8a-f9249af090e5"
      },
      "execution_count": null,
      "outputs": [
        {
          "name": "stdout",
          "text": "[  31.4  126.2 1000.    35.     0.     0.   180.    90. ]\n[ 3.12936392e+01  1.27332828e+02  9.99809137e+02  3.54444670e+01\n -9.02979520e-02 -1.32015368e+00  2.34679930e+02  1.46383424e+02]\n[  0.10636076  -1.13282806   0.19086349  -0.44446697   0.09029795\n   1.32015368 -54.67993009 -56.38342359]\n",
          "output_type": "stream"
        }
      ]
    },
    {
      "cell_type": "markdown",
      "source": [
        "Pink and Red circle denotes to the prediction made by Linear Regression.\n",
        "\n",
        "Green and Red circle denotes to the prediction made by Random Forest.\n",
        "\n",
        "Green and Red circle denotes to the prediction made by Deep Learning."
      ],
      "metadata": {
        "id": "6lvwWcbh7DDY"
      }
    },
    {
      "cell_type": "code",
      "source": [
        "import folium\n",
        "m = folium.Map(location=[x_sample[0][5], x_sample[0][6]], zoom_start=5, width=600, height=600)\n",
        "folium.Circle(location=[x_sample[0][5], x_sample[0][6]],\n",
        "             radius=x_sample[0][11]*1852,  #  nautical mile to meter\n",
        "             fill=True,\n",
        "             color=\"black\",\n",
        "             fill_color=\"yellow\")#.add_to(m)\n",
        "folium.Circle(location=[x_sample[1][5], x_sample[1][6]],\n",
        "             radius=x_sample[1][11]*1852,  #  nautical mile to meter\n",
        "             fill=True,\n",
        "             color=\"black\",\n",
        "             fill_color=\"yellow\")#.add_to(m)\n",
        "folium.Circle(location=[y_sample[0], y_sample[1]],\n",
        "             radius=y_sample[-2]*1852,  #  nautical mile to meter\n",
        "             fill=True,\n",
        "             color=\"purple\",\n",
        "             fill_color=\"orange\").add_to(m)\n",
        "\n",
        "folium.Circle(location=[lr_pred_sample[0], lr_pred_sample[1]],\n",
        "             radius=lr_pred_sample[-2]*1852,  #  nautical mile to meter\n",
        "             fill=True,\n",
        "             color=\"pink\",\n",
        "             fill_color=\"red\").add_to(m)\n",
        "folium.Circle(location=[rf_pred_sample[0], rf_pred_sample[1]],\n",
        "             radius=rf_pred_sample[-2]*1852,  #  nautical mile to meter\n",
        "             fill=True,\n",
        "             color=\"green\",\n",
        "             fill_color=\"red\").add_to(m)\n",
        "folium.Circle(location=[dl_pred_sample[0], dl_pred_sample[1]],\n",
        "             radius=dl_pred_sample[-2]*1852,  #  nautical mile to meter\n",
        "             fill=True,\n",
        "             color=\"black\",\n",
        "             fill_color=\"red\").add_to(m)\n",
        "m"
      ],
      "metadata": {
        "execution": {
          "iopub.status.busy": "2023-06-10T19:43:46.780340Z",
          "iopub.execute_input": "2023-06-10T19:43:46.780805Z",
          "iopub.status.idle": "2023-06-10T19:43:47.118819Z",
          "shell.execute_reply.started": "2023-06-10T19:43:46.780761Z",
          "shell.execute_reply": "2023-06-10T19:43:47.117590Z"
        },
        "trusted": true,
        "id": "AowBEeib3_qj",
        "outputId": "4ae0857d-2111-44e8-e713-020f7430b781"
      },
      "execution_count": null,
      "outputs": [
        {
          "execution_count": 38,
          "output_type": "execute_result",
          "data": {
            "text/plain": "<folium.folium.Map at 0x78537b319290>",
            "text/html": "<div style=\"width:100%;\"><div style=\"position:relative;width:100%;height:0;padding-bottom:60%;\"><span style=\"color:#565656\">Make this Notebook Trusted to load map: File -> Trust Notebook</span><iframe srcdoc=\"&lt;!DOCTYPE html&gt;\n&lt;html&gt;\n&lt;head&gt;\n    \n    &lt;meta http-equiv=&quot;content-type&quot; content=&quot;text/html; charset=UTF-8&quot; /&gt;\n    \n        &lt;script&gt;\n            L_NO_TOUCH = false;\n            L_DISABLE_3D = false;\n        &lt;/script&gt;\n    \n    &lt;style&gt;html, body {width: 100%;height: 100%;margin: 0;padding: 0;}&lt;/style&gt;\n    &lt;style&gt;#map {position:absolute;top:0;bottom:0;right:0;left:0;}&lt;/style&gt;\n    &lt;script src=&quot;https://cdn.jsdelivr.net/npm/leaflet@1.9.3/dist/leaflet.js&quot;&gt;&lt;/script&gt;\n    &lt;script src=&quot;https://code.jquery.com/jquery-1.12.4.min.js&quot;&gt;&lt;/script&gt;\n    &lt;script src=&quot;https://cdn.jsdelivr.net/npm/bootstrap@5.2.2/dist/js/bootstrap.bundle.min.js&quot;&gt;&lt;/script&gt;\n    &lt;script src=&quot;https://cdnjs.cloudflare.com/ajax/libs/Leaflet.awesome-markers/2.0.2/leaflet.awesome-markers.js&quot;&gt;&lt;/script&gt;\n    &lt;link rel=&quot;stylesheet&quot; href=&quot;https://cdn.jsdelivr.net/npm/leaflet@1.9.3/dist/leaflet.css&quot;/&gt;\n    &lt;link rel=&quot;stylesheet&quot; href=&quot;https://cdn.jsdelivr.net/npm/bootstrap@5.2.2/dist/css/bootstrap.min.css&quot;/&gt;\n    &lt;link rel=&quot;stylesheet&quot; href=&quot;https://netdna.bootstrapcdn.com/bootstrap/3.0.0/css/bootstrap.min.css&quot;/&gt;\n    &lt;link rel=&quot;stylesheet&quot; href=&quot;https://cdn.jsdelivr.net/npm/@fortawesome/fontawesome-free@6.2.0/css/all.min.css&quot;/&gt;\n    &lt;link rel=&quot;stylesheet&quot; href=&quot;https://cdnjs.cloudflare.com/ajax/libs/Leaflet.awesome-markers/2.0.2/leaflet.awesome-markers.css&quot;/&gt;\n    &lt;link rel=&quot;stylesheet&quot; href=&quot;https://cdn.jsdelivr.net/gh/python-visualization/folium/folium/templates/leaflet.awesome.rotate.min.css&quot;/&gt;\n    \n            &lt;meta name=&quot;viewport&quot; content=&quot;width=device-width,\n                initial-scale=1.0, maximum-scale=1.0, user-scalable=no&quot; /&gt;\n            &lt;style&gt;\n                #map_8f529935f9086e385053c0e8cd615e1f {\n                    position: relative;\n                    width: 600.0px;\n                    height: 600.0px;\n                    left: 0.0%;\n                    top: 0.0%;\n                }\n                .leaflet-container { font-size: 1rem; }\n            &lt;/style&gt;\n        \n&lt;/head&gt;\n&lt;body&gt;\n    \n    \n            &lt;div class=&quot;folium-map&quot; id=&quot;map_8f529935f9086e385053c0e8cd615e1f&quot; &gt;&lt;/div&gt;\n        \n&lt;/body&gt;\n&lt;script&gt;\n    \n    \n            var map_8f529935f9086e385053c0e8cd615e1f = L.map(\n                &quot;map_8f529935f9086e385053c0e8cd615e1f&quot;,\n                {\n                    center: [30.1, 129.9],\n                    crs: L.CRS.EPSG3857,\n                    zoom: 5,\n                    zoomControl: true,\n                    preferCanvas: false,\n                }\n            );\n\n            \n\n        \n    \n            var tile_layer_9ca880827bf9d0c8e05e8b58182e3e76 = L.tileLayer(\n                &quot;https://{s}.tile.openstreetmap.org/{z}/{x}/{y}.png&quot;,\n                {&quot;attribution&quot;: &quot;Data by \\u0026copy; \\u003ca target=\\&quot;_blank\\&quot; href=\\&quot;http://openstreetmap.org\\&quot;\\u003eOpenStreetMap\\u003c/a\\u003e, under \\u003ca target=\\&quot;_blank\\&quot; href=\\&quot;http://www.openstreetmap.org/copyright\\&quot;\\u003eODbL\\u003c/a\\u003e.&quot;, &quot;detectRetina&quot;: false, &quot;maxNativeZoom&quot;: 18, &quot;maxZoom&quot;: 18, &quot;minZoom&quot;: 0, &quot;noWrap&quot;: false, &quot;opacity&quot;: 1, &quot;subdomains&quot;: &quot;abc&quot;, &quot;tms&quot;: false}\n            ).addTo(map_8f529935f9086e385053c0e8cd615e1f);\n        \n    \n            var circle_70688b1cc2aba0afac6705418521bb49 = L.circle(\n                [31.4, 126.2],\n                {&quot;bubblingMouseEvents&quot;: true, &quot;color&quot;: &quot;purple&quot;, &quot;dashArray&quot;: null, &quot;dashOffset&quot;: null, &quot;fill&quot;: true, &quot;fillColor&quot;: &quot;orange&quot;, &quot;fillOpacity&quot;: 0.2, &quot;fillRule&quot;: &quot;evenodd&quot;, &quot;lineCap&quot;: &quot;round&quot;, &quot;lineJoin&quot;: &quot;round&quot;, &quot;opacity&quot;: 1.0, &quot;radius&quot;: 333360.0, &quot;stroke&quot;: true, &quot;weight&quot;: 3}\n            ).addTo(map_8f529935f9086e385053c0e8cd615e1f);\n        \n    \n            var circle_5ce4db62b5055fbc2637e3afb5f9dfee = L.circle(\n                [31.293639240973604, 127.33282806266027],\n                {&quot;bubblingMouseEvents&quot;: true, &quot;color&quot;: &quot;pink&quot;, &quot;dashArray&quot;: null, &quot;dashOffset&quot;: null, &quot;fill&quot;: true, &quot;fillColor&quot;: &quot;red&quot;, &quot;fillOpacity&quot;: 0.2, &quot;fillRule&quot;: &quot;evenodd&quot;, &quot;lineCap&quot;: &quot;round&quot;, &quot;lineJoin&quot;: &quot;round&quot;, &quot;opacity&quot;: 1.0, &quot;radius&quot;: 434627.2305187968, &quot;stroke&quot;: true, &quot;weight&quot;: 3}\n            ).addTo(map_8f529935f9086e385053c0e8cd615e1f);\n        \n    \n            var circle_3a4ba34b952859442c4f44d2786f1c99 = L.circle(\n                [24.201999999999995, 127.25599999999999],\n                {&quot;bubblingMouseEvents&quot;: true, &quot;color&quot;: &quot;green&quot;, &quot;dashArray&quot;: null, &quot;dashOffset&quot;: null, &quot;fill&quot;: true, &quot;fillColor&quot;: &quot;red&quot;, &quot;fillOpacity&quot;: 0.2, &quot;fillRule&quot;: &quot;evenodd&quot;, &quot;lineCap&quot;: &quot;round&quot;, &quot;lineJoin&quot;: &quot;round&quot;, &quot;opacity&quot;: 1.0, &quot;radius&quot;: 451147.2, &quot;stroke&quot;: true, &quot;weight&quot;: 3}\n            ).addTo(map_8f529935f9086e385053c0e8cd615e1f);\n        \n    \n            var circle_0dc65260dda2d28f5d0e02fbc0c0f82c = L.circle(\n                [27.398170471191406, 130.51026916503906],\n                {&quot;bubblingMouseEvents&quot;: true, &quot;color&quot;: &quot;black&quot;, &quot;dashArray&quot;: null, &quot;dashOffset&quot;: null, &quot;fill&quot;: true, &quot;fillColor&quot;: &quot;red&quot;, &quot;fillOpacity&quot;: 0.2, &quot;fillRule&quot;: &quot;evenodd&quot;, &quot;lineCap&quot;: &quot;round&quot;, &quot;lineJoin&quot;: &quot;round&quot;, &quot;opacity&quot;: 1.0, &quot;radius&quot;: 435093.0028076172, &quot;stroke&quot;: true, &quot;weight&quot;: 3}\n            ).addTo(map_8f529935f9086e385053c0e8cd615e1f);\n        \n&lt;/script&gt;\n&lt;/html&gt;\" style=\"position:absolute;width:100%;height:100%;left:0;top:0;border:none !important;\" allowfullscreen webkitallowfullscreen mozallowfullscreen></iframe></div></div>"
          },
          "metadata": {}
        }
      ]
    },
    {
      "cell_type": "markdown",
      "source": [
        "# Summary (recommendations, insights)\n",
        "\n",
        "1. Linear Regression creates the most satisfing results in both quantitative and qualitative evaluation.\n",
        "\n",
        "2. Deep Learning is not good as expected. But there is a room for improvement.\n",
        "\n",
        "3. According to the heat map in our data visualization section, it is recommended that southern China should have more caution on typhoon.\n",
        "\n",
        "4. The strom will be upgraded from time to time, so in the modelling part, it is not correct just simply exclude the role that not typhoon."
      ],
      "metadata": {
        "id": "LeESGIBn3_qj"
      }
    }
  ]
}